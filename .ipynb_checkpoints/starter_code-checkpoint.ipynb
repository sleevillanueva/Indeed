{
 "cells": [
  {
   "cell_type": "markdown",
   "metadata": {
    "focus": false,
    "id": "69b9a648-bcc7-490d-9f9b-ea244d156bd6"
   },
   "source": [
    "# Web Scraping for Indeed.com & Predicting Salaries"
   ]
  },
  {
   "cell_type": "code",
   "execution_count": 4,
   "metadata": {
    "collapsed": true,
    "focus": false,
    "id": "2efefc73-064a-482d-b3b5-ddf5508cb4ec"
   },
   "outputs": [],
   "source": [
    "import requests\n",
    "import bs4\n",
    "import urllib\n",
    "from bs4 import BeautifulSoup\n",
    "import json\n",
    "import re\n",
    "import pandas as pd\n",
    "import numpy as np\n",
    "import seaborn as sns\n",
    "import matplotlib.pyplot as plt\n",
    "%matplotlib inline"
   ]
  },
  {
   "cell_type": "code",
   "execution_count": 3,
   "metadata": {
    "collapsed": true,
    "focus": false,
    "id": "a9aa87ec-3575-4a01-a986-eb684f2c47d0"
   },
   "outputs": [],
   "source": [
    "YOUR_CITY = 'Boston'"
   ]
  },
  {
   "cell_type": "code",
   "execution_count": 4,
   "metadata": {
    "collapsed": false,
    "focus": false,
    "id": "04b0f9af-540e-402f-8292-81748707c676"
   },
   "outputs": [],
   "source": [
    "#made the results as function so that I can adjust the min max accordingly\n",
    "def getURL(min_n, max_n):\n",
    "    max_results_per_city = max_n # Set this to a high-value (5000) to generate more results. \n",
    "    res = []\n",
    "\n",
    "    for city in set(['New+York', 'Chicago', 'San+Francisco', 'Austin', 'Seattle', \n",
    "                     'Los+Angeles', 'Philadelphia', 'Atlanta', 'Dallas', 'Pittsburgh', \n",
    "                     'Portland', 'Phoenix', 'Denver', 'Houston', 'Miami', YOUR_CITY]):\n",
    "        for start in range(min_n, max_results_per_city, 100): #step should be a hundred because added a limit of 100 jobs per page\n",
    "            url = \"http://www.indeed.com/jobs?q=data+scientist+%2420%2C000&l={\"+city+\"}&start={\"+str(start)+\"}&limit=100\"\n",
    "        # Grab the results from the request (as above)\n",
    "        # Append to the full set of results\n",
    "            res.append(url)\n",
    "            pass\n",
    "    return res"
   ]
  },
  {
   "cell_type": "code",
   "execution_count": 55,
   "metadata": {
    "collapsed": true
   },
   "outputs": [],
   "source": [
    "#Let's get the list of urls from our defined function\n",
    "urls = getURL(0,1000)"
   ]
  },
  {
   "cell_type": "code",
   "execution_count": 22,
   "metadata": {
    "collapsed": true
   },
   "outputs": [],
   "source": [
    "#Let's create an empty pandas dataframe with our columns\n",
    "new_df = pd.DataFrame(columns=[\"title\",\"company\",\"location\",\"salary\",\"summary\"])"
   ]
  },
  {
   "cell_type": "code",
   "execution_count": 56,
   "metadata": {
    "collapsed": false
   },
   "outputs": [],
   "source": [
    "for url in urls:\n",
    "    html = urllib.urlopen(url).read()\n",
    "    soup = BeautifulSoup(html,\"html.parser\")\n",
    "    \n",
    "    for job in soup.findAll(\"div\",{\"class\": \" row result\"}):\n",
    "        try: #try to find the nobr tag but if not, then throw null\n",
    "            salary = job.find(\"td\",{\"class\":\"snip\"}).find(\"nobr\").renderContents()\n",
    "        except:\n",
    "            salary=\"NA\"\n",
    "\n",
    "        if salary != \"NA\":\n",
    "            title = job.find(\"a\",{\"target\":\"_blank\"}).get(\"title\") #get title of job\n",
    "            company = job.find(\"span\",{\"itemprop\":\"name\"}).getText()\n",
    "            company = company.replace('  ','').replace(\"\\n\",\"\")\n",
    "            location = job.find(\"span\",{\"itemprop\":\"addressLocality\"}).getText()\n",
    "            summary = job.find(\"span\",{\"class\":\"summary\"}).getText()\n",
    "            new_df.loc[len(new_df)]=[title, company, location, salary, summary]"
   ]
  },
  {
   "cell_type": "code",
   "execution_count": 59,
   "metadata": {
    "collapsed": false
   },
   "outputs": [],
   "source": [
    "new_df.drop_duplicates(inplace=True)"
   ]
  },
  {
   "cell_type": "code",
   "execution_count": 178,
   "metadata": {
    "collapsed": false
   },
   "outputs": [],
   "source": [
    "withsal = new_df[new_df[\"salary\"].str.contains(\"year\")].copy(deep=True)"
   ]
  },
  {
   "cell_type": "markdown",
   "metadata": {
    "focus": false,
    "id": "7d4bc860-b214-4f75-9cd0-b234830b1ec2"
   },
   "source": [
    "#### Write a function that takes a salary string and converts it to a number, averaging a salary range if necessary"
   ]
  },
  {
   "cell_type": "code",
   "execution_count": 179,
   "metadata": {
    "collapsed": false,
    "focus": false,
    "id": "a0f701e0-80bd-40ba-9101-4535860c0968"
   },
   "outputs": [],
   "source": [
    "## YOUR CODE HERE\n",
    "def splitX(x):\n",
    "    y = x.split(\"-\")\n",
    "    cleanList = [re.search('(([0-9]+[\\,]*[0-9]*))',i).group(1) for i in y]\n",
    "    return cleanList"
   ]
  },
  {
   "cell_type": "code",
   "execution_count": 180,
   "metadata": {
    "collapsed": false
   },
   "outputs": [],
   "source": [
    "withsal[\"salary\"] = withsal[\"salary\"].apply(splitX)"
   ]
  },
  {
   "cell_type": "code",
   "execution_count": 184,
   "metadata": {
    "collapsed": true
   },
   "outputs": [],
   "source": [
    "def removeCommas(x):\n",
    "    a = [str(i).replace(\",\",\"\") for i in x]\n",
    "    return a"
   ]
  },
  {
   "cell_type": "code",
   "execution_count": 185,
   "metadata": {
    "collapsed": false
   },
   "outputs": [],
   "source": [
    "withsal[\"salary\"] = withsal[\"salary\"].apply(removeCommas)"
   ]
  },
  {
   "cell_type": "code",
   "execution_count": 198,
   "metadata": {
    "collapsed": false
   },
   "outputs": [],
   "source": [
    "def splitCols(x):\n",
    "    if len(x) > 1:\n",
    "        avg = (int(x[1]) + int(x[0]))/2\n",
    "        return avg\n",
    "    else:\n",
    "        return int(x[0])"
   ]
  },
  {
   "cell_type": "code",
   "execution_count": 200,
   "metadata": {
    "collapsed": false
   },
   "outputs": [],
   "source": [
    "withsal[\"avg\"] = withsal[\"salary\"].apply(splitCols)"
   ]
  },
  {
   "cell_type": "code",
   "execution_count": 202,
   "metadata": {
    "collapsed": true
   },
   "outputs": [],
   "source": [
    "def fixLoc(x):\n",
    "    x = re.search('(.*[A-Z]{2})',x).group(1)\n",
    "    return x"
   ]
  },
  {
   "cell_type": "code",
   "execution_count": 203,
   "metadata": {
    "collapsed": true
   },
   "outputs": [],
   "source": [
    "withsal[\"location\"] = withsal[\"location\"].apply(fixLoc)"
   ]
  },
  {
   "cell_type": "code",
   "execution_count": null,
   "metadata": {
    "collapsed": true,
    "focus": false,
    "id": "783fd153-28ac-47ab-bfca-27e7c1de95b4"
   },
   "outputs": [],
   "source": [
    "#save results to csv\n",
    "df.to_csv(\"/users/Sheena/Desktop/indeed2.csv\",sep=',')"
   ]
  },
  {
   "cell_type": "markdown",
   "metadata": {
    "focus": false,
    "id": "04563b69-f7b6-466f-9d65-fc62c9ddee6a"
   },
   "source": [
    "## Predicting salaries using Random Forests + Another Classifier"
   ]
  },
  {
   "cell_type": "markdown",
   "metadata": {
    "focus": false,
    "id": "243e949e-2742-40af-872e-fec475fd306c"
   },
   "source": [
    "#### Load in the the data of scraped salaries"
   ]
  },
  {
   "cell_type": "code",
   "execution_count": 2,
   "metadata": {
    "collapsed": true
   },
   "outputs": [],
   "source": [
    "from sklearn.pipeline import make_pipeline\n",
    "from sklearn.preprocessing import StandardScaler"
   ]
  },
  {
   "cell_type": "code",
   "execution_count": 6,
   "metadata": {
    "collapsed": false
   },
   "outputs": [],
   "source": [
    "withsal = pd.read_csv(\"/users/Sheena/Desktop/withsal.csv\")"
   ]
  },
  {
   "cell_type": "markdown",
   "metadata": {
    "focus": false,
    "id": "c7631f51-07f2-4c79-a093-3e9bc7849a48"
   },
   "source": [
    "#### We want to predict a binary variable - whether the salary was low or high. Compute the median salary and create a new binary variable that is true when the salary is high (above the median)\n",
    "\n",
    "We could also perform Linear Regression (or any regression) to predict the salary value here. Instead, we are going to convert this into a _binary_ classification problem, by predicting two classes, HIGH vs LOW salary.\n",
    "\n",
    "While performing regression may be better, performing classification may help remove some of the noise of the extreme salaries. We don't have to choice the `median` as the splitting point - we could also split on the 75th percentile or any other reasonable breaking point.\n",
    "\n",
    "In fact, the ideal scenario may be to predict many levels of salaries, "
   ]
  },
  {
   "cell_type": "code",
   "execution_count": 7,
   "metadata": {
    "collapsed": false
   },
   "outputs": [
    {
     "data": {
      "text/plain": [
       "<matplotlib.axes._subplots.AxesSubplot at 0x119d7e550>"
      ]
     },
     "execution_count": 7,
     "metadata": {},
     "output_type": "execute_result"
    },
    {
     "data": {
      "image/png": "[encoded data removed]",
      "text/plain": [
       "<matplotlib.figure.Figure at 0x119b51c50>"
      ]
     },
     "metadata": {},
     "output_type": "display_data"
    }
   ],
   "source": [
    "sns.distplot(withsal[\"avg\"].values)"
   ]
  },
  {
   "cell_type": "code",
   "execution_count": 10,
   "metadata": {
    "collapsed": false,
    "focus": false,
    "id": "c20d2498-151c-44c3-a453-3a333c79a0ac"
   },
   "outputs": [],
   "source": [
    "## YOUR CODE HERE\n",
    "def getBin(x):\n",
    "    if x > np.median(withsal[\"avg\"]):\n",
    "    #if x > np.median(df[\"avg\"]):\n",
    "        return 1\n",
    "    else:\n",
    "        return 0"
   ]
  },
  {
   "cell_type": "code",
   "execution_count": 11,
   "metadata": {
    "collapsed": false
   },
   "outputs": [],
   "source": [
    "withsal[\"target\"] = withsal[\"avg\"].apply(getBin)"
   ]
  },
  {
   "cell_type": "code",
   "execution_count": 12,
   "metadata": {
    "collapsed": false
   },
   "outputs": [],
   "source": [
    "withsal_dummies = pd.get_dummies(withsal[[\"company\",\"location\",\"title\"]])"
   ]
  },
  {
   "cell_type": "markdown",
   "metadata": {
    "focus": false,
    "id": "a7afb2c0-d41e-4779-8216-91cd8dd4473f"
   },
   "source": [
    "#### Thought experiment: What is the baseline accuracy for this model?"
   ]
  },
  {
   "cell_type": "code",
   "execution_count": 1,
   "metadata": {
    "collapsed": true
   },
   "outputs": [],
   "source": [
    "from sklearn.cross_validation import cross_val_score, StratifiedKFold,cross_val_predict\n",
    "from sklearn.tree import DecisionTreeClassifier\n",
    "from sklearn.ensemble import RandomForestClassifier, ExtraTreesClassifier, BaggingClassifier, GradientBoostingClassifier\n",
    "from sklearn.metrics import accuracy_score\n",
    "from sklearn.pipeline import make_pipeline\n",
    "from sklearn.preprocessing import StandardScaler\n",
    "from sklearn.linear_model import LogisticRegression\n",
    "from sklearn.grid_search import GridSearchCV\n",
    "from sklearn import svm\n",
    "from sklearn.cross_validation import train_test_split"
   ]
  },
  {
   "cell_type": "code",
   "execution_count": 13,
   "metadata": {
    "collapsed": true
   },
   "outputs": [],
   "source": [
    "#making a pipeline to scale and initialize random forest\n",
    "rf = RandomForestClassifier(class_weight='balanced')"
   ]
  },
  {
   "cell_type": "code",
   "execution_count": 14,
   "metadata": {
    "collapsed": false
   },
   "outputs": [],
   "source": [
    "pipey = make_pipeline(StandardScaler(), rf)"
   ]
  },
  {
   "cell_type": "code",
   "execution_count": 15,
   "metadata": {
    "collapsed": true,
    "focus": false,
    "id": "87a17d3d-b7f4-4747-9f75-f9af1d18a174"
   },
   "outputs": [],
   "source": [
    "## YOUR CODE HERE\n",
    "def printScore(modelname, model):\n",
    "    s = cross_val_score(model, X, y, cv=cv, n_jobs=-1)\n",
    "    print \"{} Score:\\t{:0.3} ± {:0.3}\".format(modelname, s.mean().round(3), s.std().round(3))"
   ]
  },
  {
   "cell_type": "code",
   "execution_count": 16,
   "metadata": {
    "collapsed": true
   },
   "outputs": [],
   "source": [
    "y = withsal[\"target\"]"
   ]
  },
  {
   "cell_type": "code",
   "execution_count": 70,
   "metadata": {
    "collapsed": false
   },
   "outputs": [
    {
     "name": "stdout",
     "output_type": "stream",
     "text": [
      "0    0.504274\n",
      "1    0.495726\n",
      "Name: target, dtype: float64\n"
     ]
    }
   ],
   "source": [
    "baseline = y.value_counts()/len(y)\n",
    "print baseline"
   ]
  },
  {
   "cell_type": "code",
   "execution_count": 17,
   "metadata": {
    "collapsed": false
   },
   "outputs": [],
   "source": [
    "cv = StratifiedKFold(y, n_folds=3, shuffle=True, random_state=41)"
   ]
  },
  {
   "cell_type": "markdown",
   "metadata": {
    "focus": false,
    "id": "4fb29de2-5b98-474c-a4ad-5170b72b9aea"
   },
   "source": [
    "#### Create a Random Forest model to predict High/Low salary using statsmodel. Start by ONLY using the location as a feature. "
   ]
  },
  {
   "cell_type": "code",
   "execution_count": 122,
   "metadata": {
    "collapsed": true
   },
   "outputs": [],
   "source": [
    "X=pd.get_dummies(withsal[\"location\"])"
   ]
  },
  {
   "cell_type": "code",
   "execution_count": 123,
   "metadata": {
    "collapsed": false,
    "focus": false,
    "id": "ddbc6159-6854-4ca7-857f-bfecdaf6d9c2"
   },
   "outputs": [
    {
     "name": "stdout",
     "output_type": "stream",
     "text": [
      "Random Forest Classifier Score:\t0.551 ± 0.036\n"
     ]
    }
   ],
   "source": [
    "#print cross val score with folds=3\n",
    "printScore(\"Random Forest Classifier\", rf)"
   ]
  },
  {
   "cell_type": "markdown",
   "metadata": {
    "focus": false,
    "id": "0ef04f32-419c-4bf2-baf7-48201f03df89"
   },
   "source": [
    "#### Create a few new variables in your dataframe to represent interesting features of a job title.\n",
    "- For example, create a feature that represents whether 'Senior' is in the title \n",
    "- or whether 'Manager' is in the title. \n",
    "- Then build a new Random Forest with these features. Do they add any value? \n"
   ]
  },
  {
   "cell_type": "code",
   "execution_count": 18,
   "metadata": {
    "collapsed": false,
    "focus": false,
    "id": "068dc1cf-7fd7-4f27-a1f1-7f0a5a221d29"
   },
   "outputs": [],
   "source": [
    "## YOUR CODE HERE\n",
    "def checkStatus(x):\n",
    "    if (\"Senior\" in x) | (\"Sr.\" in x):\n",
    "        return 1\n",
    "    elif \"Manager\" in x:\n",
    "        return 3\n",
    "    elif \"Principal\" in x:\n",
    "        return 2\n",
    "    else:\n",
    "        return 0"
   ]
  },
  {
   "cell_type": "code",
   "execution_count": 19,
   "metadata": {
    "collapsed": true
   },
   "outputs": [],
   "source": [
    "withsal[\"status\"] = withsal[\"title\"].apply(checkStatus)"
   ]
  },
  {
   "cell_type": "code",
   "execution_count": 126,
   "metadata": {
    "collapsed": true
   },
   "outputs": [],
   "source": [
    "df3 = pd.concat([pd.get_dummies(withsal[\"location\"]),withsal[[\"status\"]]],axis=1)"
   ]
  },
  {
   "cell_type": "code",
   "execution_count": 127,
   "metadata": {
    "collapsed": false
   },
   "outputs": [
    {
     "name": "stdout",
     "output_type": "stream",
     "text": [
      "Random Forest Classifier Score:\t0.602 ± 0.013\n"
     ]
    }
   ],
   "source": [
    "X = df3\n",
    "printScore(\"Random Forest Classifier\", rf)"
   ]
  },
  {
   "cell_type": "markdown",
   "metadata": {
    "focus": false,
    "id": "9c9274ef-c9f5-4d56-b286-ecc8709eff9f"
   },
   "source": [
    "#### Rebuild this model with scikit-learn.\n",
    "- You can either create the dummy features manually or use the `dmatrix` function from `patsy`\n",
    "- Remember to scale the feature variables as well!\n"
   ]
  },
  {
   "cell_type": "markdown",
   "metadata": {},
   "source": [
    "X = pd.concat([pd.get_dummies(df[[\"company\",\"location\"]]),df[[\"status\"]]],axis=1)\n",
    "printScore(\"Random Forest Classifier\", rf)"
   ]
  },
  {
   "cell_type": "code",
   "execution_count": 129,
   "metadata": {
    "collapsed": false
   },
   "outputs": [
    {
     "name": "stdout",
     "output_type": "stream",
     "text": [
      "Random Forest Classifier Score:\t0.671 ± 0.043\n"
     ]
    }
   ],
   "source": [
    "X = pd.concat([pd.get_dummies(withsal[[\"company\",\"location\"]]),withsal[[\"status\"]]],axis=1)\n",
    "printScore(\"Random Forest Classifier\", rf)"
   ]
  },
  {
   "cell_type": "code",
   "execution_count": 130,
   "metadata": {
    "collapsed": false
   },
   "outputs": [
    {
     "name": "stdout",
     "output_type": "stream",
     "text": [
      "Random Forest Classifier Score:\t0.709 ± 0.035\n"
     ]
    }
   ],
   "source": [
    "df4 = pd.concat([withsal_dummies,withsal[[\"status\"]]],axis=1)\n",
    "X = df4\n",
    "printScore(\"Random Forest Classifier\", rf)"
   ]
  },
  {
   "cell_type": "code",
   "execution_count": 131,
   "metadata": {
    "collapsed": false
   },
   "outputs": [],
   "source": [
    "withsal[\"summary\"] = withsal[\"summary\"].apply(lambda x: x[1:].lower())"
   ]
  },
  {
   "cell_type": "markdown",
   "metadata": {
    "focus": false,
    "id": "9367beff-72ba-4768-a0ba-a50b335de61d"
   },
   "source": [
    "#### Use cross-validation in scikit-learn to evaluate the model above. \n",
    "- Evaluate the accuracy of the model. "
   ]
  },
  {
   "cell_type": "code",
   "execution_count": 34,
   "metadata": {
    "collapsed": false,
    "focus": false,
    "id": "269b9e7c-60b5-4a06-8255-881d7395bc1b"
   },
   "outputs": [
    {
     "name": "stdout",
     "output_type": "stream",
     "text": [
      "Random Forest Classifier Score:\t0.675 ± 0.025\n"
     ]
    }
   ],
   "source": [
    "## YOUR CODE HERE\n",
    "allCol = pd.get_dummies(withsal[[\"company\",\"location\",\"title\",\"summary\"]])\n",
    "X=allCol\n",
    "printScore(\"Random Forest Classifier\", pipey)"
   ]
  },
  {
   "cell_type": "code",
   "execution_count": 35,
   "metadata": {
    "collapsed": true
   },
   "outputs": [],
   "source": [
    "lr = LogisticRegression()"
   ]
  },
  {
   "cell_type": "code",
   "execution_count": 36,
   "metadata": {
    "collapsed": false
   },
   "outputs": [
    {
     "name": "stdout",
     "output_type": "stream",
     "text": [
      "Logistic Regression Score:\t0.679 ± 0.049\n"
     ]
    }
   ],
   "source": [
    "C_vals = [0.0001, 0.001, 0.01, 0.1, .15, .25, .275, .33, 0.5, .66, 0.75, 1.0, 2.5, 5.0, 10.0, 100.0, 1000.0]\n",
    "penalties = ['l1','l2']\n",
    "\n",
    "gslr = GridSearchCV(lr, {'penalty': penalties, 'C': C_vals}, verbose=False)\n",
    "printScore(\"Logistic Regression\", gslr)"
   ]
  },
  {
   "cell_type": "code",
   "execution_count": 37,
   "metadata": {
    "collapsed": false
   },
   "outputs": [
    {
     "name": "stdout",
     "output_type": "stream",
     "text": [
      "Logistic Regression Score:\t0.658 ± 0.047\n"
     ]
    }
   ],
   "source": [
    "printScore(\"Logistic Regression\", lr)"
   ]
  },
  {
   "cell_type": "code",
   "execution_count": 38,
   "metadata": {
    "collapsed": false
   },
   "outputs": [
    {
     "name": "stdout",
     "output_type": "stream",
     "text": [
      "K Nearest Neighbors Score:\t0.633 ± 0.014\n"
     ]
    }
   ],
   "source": [
    "from sklearn.neighbors import KNeighborsClassifier\n",
    "knn = KNeighborsClassifier()\n",
    "printScore(\"K Nearest Neighbors\", knn)"
   ]
  },
  {
   "cell_type": "code",
   "execution_count": 39,
   "metadata": {
    "collapsed": false
   },
   "outputs": [
    {
     "name": "stdout",
     "output_type": "stream",
     "text": [
      "Decision Tree Score:\t0.602 ± 0.058\n"
     ]
    }
   ],
   "source": [
    "dtc = DecisionTreeClassifier(max_depth=None)\n",
    "printScore(\"Decision Tree\", dtc)"
   ]
  },
  {
   "cell_type": "code",
   "execution_count": 20,
   "metadata": {
    "collapsed": true
   },
   "outputs": [],
   "source": [
    "params = {\n",
    "    'n_estimators':[50,100,250,500],\n",
    "    'max_samples':[0.25, 0.5, 0.75, 1.0],\n",
    "    'max_features':[0.25, 0.5, 0.75, 1.0]\n",
    "}"
   ]
  },
  {
   "cell_type": "code",
   "execution_count": 139,
   "metadata": {
    "collapsed": false
   },
   "outputs": [
    {
     "name": "stdout",
     "output_type": "stream",
     "text": [
      "Fitting 5 folds for each of 64 candidates, totalling 320 fits\n",
      "Fitting 5 folds for each of 64 candidates, totalling 320 fits\n",
      "Fitting 5 folds for each of 64 candidates, totalling 320 fits\n"
     ]
    },
    {
     "name": "stderr",
     "output_type": "stream",
     "text": [
      "[Parallel(n_jobs=1)]: Done  49 tasks       | elapsed:   24.7s\n",
      "[Parallel(n_jobs=1)]: Done  49 tasks       | elapsed:   24.7s\n",
      "[Parallel(n_jobs=1)]: Done  49 tasks       | elapsed:   24.7s\n",
      "[Parallel(n_jobs=1)]: Done 199 tasks       | elapsed:  2.2min\n",
      "[Parallel(n_jobs=1)]: Done 199 tasks       | elapsed:  2.2min\n",
      "[Parallel(n_jobs=1)]: Done 199 tasks       | elapsed:  2.2min\n",
      "[Parallel(n_jobs=1)]: Done 320 out of 320 | elapsed:  3.8min finished\n",
      "[Parallel(n_jobs=1)]: Done 320 out of 320 | elapsed:  3.8min finished\n",
      "[Parallel(n_jobs=1)]: Done 320 out of 320 | elapsed:  3.8min finished\n"
     ]
    },
    {
     "name": "stdout",
     "output_type": "stream",
     "text": [
      "Decision Tree with Bagging and gridsearch Score:\t0.67 ± 0.062\n"
     ]
    }
   ],
   "source": [
    "bag = BaggingClassifier(dtc)\n",
    "\n",
    "gs = GridSearchCV(bag, params, cv=5, verbose=1)\n",
    "\n",
    "printScore(\"Decision Tree with Bagging and gridsearch\", gs)"
   ]
  },
  {
   "cell_type": "code",
   "execution_count": 23,
   "metadata": {
    "collapsed": false
   },
   "outputs": [
    {
     "name": "stderr",
     "output_type": "stream",
     "text": [
      "/Users/Sheena/anaconda2/lib/python2.7/site-packages/sklearn/grid_search.py:418: ChangedBehaviorWarning: The long-standing behavior to use the estimator's score function in GridSearchCV.score has changed. The scoring parameter is now used.\n",
      "  ChangedBehaviorWarning)\n",
      "/Users/Sheena/anaconda2/lib/python2.7/site-packages/sklearn/grid_search.py:418: ChangedBehaviorWarning: The long-standing behavior to use the estimator's score function in GridSearchCV.score has changed. The scoring parameter is now used.\n",
      "  ChangedBehaviorWarning)\n",
      "/Users/Sheena/anaconda2/lib/python2.7/site-packages/sklearn/grid_search.py:418: ChangedBehaviorWarning: The long-standing behavior to use the estimator's score function in GridSearchCV.score has changed. The scoring parameter is now used.\n",
      "  ChangedBehaviorWarning)\n"
     ]
    },
    {
     "name": "stdout",
     "output_type": "stream",
     "text": [
      "SVM with gridsearch Score:\t0.658 ± 0.036\n"
     ]
    }
   ],
   "source": [
    "nsvm = svm.SVC()\n",
    "k = [\"rbf\",\"linear\",\"poly\",\"sigmoid\"]\n",
    "C_range = 10.**np.arange(-2, 3)\n",
    "params = dict(kernel=k,C=C_range)\n",
    "gsvm=GridSearchCV(nsvm,params,scoring='accuracy')\n",
    "printScore(\"SVM with gridsearch\", gsvm)"
   ]
  },
  {
   "cell_type": "code",
   "execution_count": 25,
   "metadata": {
    "collapsed": true
   },
   "outputs": [],
   "source": [
    "from sklearn.feature_extraction.text import CountVectorizer, TfidfVectorizer"
   ]
  },
  {
   "cell_type": "code",
   "execution_count": 26,
   "metadata": {
    "collapsed": false
   },
   "outputs": [
    {
     "data": {
      "text/plain": [
       "CountVectorizer(analyzer=u'word', binary=False, decode_error=u'strict',\n",
       "        dtype=<type 'numpy.int64'>, encoding=u'utf-8', input=u'content',\n",
       "        lowercase=True, max_df=1.0, max_features=None, min_df=3,\n",
       "        ngram_range=(1, 1), preprocessor=None, stop_words='english',\n",
       "        strip_accents=None, token_pattern=u'(?u)\\\\b\\\\w\\\\w+\\\\b',\n",
       "        tokenizer=None, vocabulary=None)"
      ]
     },
     "execution_count": 26,
     "metadata": {},
     "output_type": "execute_result"
    }
   ],
   "source": [
    "cvec = CountVectorizer(stop_words='english',min_df=3)\n",
    "cvec.fit(withsal['summary'])"
   ]
  },
  {
   "cell_type": "code",
   "execution_count": 27,
   "metadata": {
    "collapsed": false
   },
   "outputs": [],
   "source": [
    "withsalcv = pd.DataFrame(cvec.transform(withsal['summary']).todense(), columns=cvec.get_feature_names())"
   ]
  },
  {
   "cell_type": "code",
   "execution_count": 40,
   "metadata": {
    "collapsed": false
   },
   "outputs": [],
   "source": [
    "X = pd.concat([withsalcv,withsal_dummies,withsal[[\"status\"]]],axis=1)"
   ]
  },
  {
   "cell_type": "code",
   "execution_count": 41,
   "metadata": {
    "collapsed": false
   },
   "outputs": [
    {
     "name": "stdout",
     "output_type": "stream",
     "text": [
      "Logistic Regression Score:\t0.714 ± 0.015\n"
     ]
    }
   ],
   "source": [
    "printScore(\"Logistic Regression\", lr)"
   ]
  },
  {
   "cell_type": "code",
   "execution_count": 42,
   "metadata": {
    "collapsed": false
   },
   "outputs": [
    {
     "name": "stdout",
     "output_type": "stream",
     "text": [
      "LR Gridsearch Score:\t0.709 ± 0.018\n"
     ]
    }
   ],
   "source": [
    "printScore(\"LR Gridsearch\", gslr)"
   ]
  },
  {
   "cell_type": "code",
   "execution_count": 43,
   "metadata": {
    "collapsed": false
   },
   "outputs": [
    {
     "name": "stdout",
     "output_type": "stream",
     "text": [
      "Random Forest Score:\t0.632 ± 0.036\n"
     ]
    }
   ],
   "source": [
    "printScore(\"Random Forest\", rf)"
   ]
  },
  {
   "cell_type": "code",
   "execution_count": 44,
   "metadata": {
    "collapsed": false
   },
   "outputs": [
    {
     "name": "stdout",
     "output_type": "stream",
     "text": [
      "Decision Tree Score:\t0.581 ± 0.048\n"
     ]
    }
   ],
   "source": [
    "printScore(\"Decision Tree\", dtc)"
   ]
  },
  {
   "cell_type": "code",
   "execution_count": 51,
   "metadata": {
    "collapsed": false
   },
   "outputs": [
    {
     "name": "stderr",
     "output_type": "stream",
     "text": [
      "/Users/Sheena/anaconda2/lib/python2.7/site-packages/sklearn/grid_search.py:418: ChangedBehaviorWarning: The long-standing behavior to use the estimator's score function in GridSearchCV.score has changed. The scoring parameter is now used.\n",
      "  ChangedBehaviorWarning)\n",
      "/Users/Sheena/anaconda2/lib/python2.7/site-packages/sklearn/grid_search.py:418: ChangedBehaviorWarning: The long-standing behavior to use the estimator's score function in GridSearchCV.score has changed. The scoring parameter is now used.\n",
      "  ChangedBehaviorWarning)\n",
      "/Users/Sheena/anaconda2/lib/python2.7/site-packages/sklearn/grid_search.py:418: ChangedBehaviorWarning: The long-standing behavior to use the estimator's score function in GridSearchCV.score has changed. The scoring parameter is now used.\n",
      "  ChangedBehaviorWarning)\n"
     ]
    },
    {
     "name": "stdout",
     "output_type": "stream",
     "text": [
      "SVM with gridsearch Score:\t0.713 ± 0.033\n"
     ]
    }
   ],
   "source": [
    "printScore(\"SVM with gridsearch\", gsvm)"
   ]
  },
  {
   "cell_type": "code",
   "execution_count": 247,
   "metadata": {
    "collapsed": false
   },
   "outputs": [
    {
     "name": "stdout",
     "output_type": "stream",
     "text": [
      "Fitting 5 folds for each of 64 candidates, totalling 320 fits\n",
      "Fitting 5 folds for each of 64 candidates, totalling 320 fits\n",
      "Fitting 5 folds for each of 64 candidates, totalling 320 fits\n"
     ]
    },
    {
     "name": "stderr",
     "output_type": "stream",
     "text": [
      "[Parallel(n_jobs=1)]: Done  49 tasks       | elapsed:   27.2s\n",
      "[Parallel(n_jobs=1)]: Done  49 tasks       | elapsed:   27.2s\n",
      "[Parallel(n_jobs=1)]: Done  49 tasks       | elapsed:   27.3s\n",
      "[Parallel(n_jobs=1)]: Done 199 tasks       | elapsed:  2.3min\n",
      "[Parallel(n_jobs=1)]: Done 199 tasks       | elapsed:  2.4min\n",
      "[Parallel(n_jobs=1)]: Done 199 tasks       | elapsed:  2.4min\n",
      "[Parallel(n_jobs=1)]: Done 320 out of 320 | elapsed:  3.9min finished\n",
      "[Parallel(n_jobs=1)]: Done 320 out of 320 | elapsed:  4.0min finished\n",
      "[Parallel(n_jobs=1)]: Done 320 out of 320 | elapsed:  4.0min finished\n"
     ]
    },
    {
     "name": "stdout",
     "output_type": "stream",
     "text": [
      "Decision Tree with Bagging and gridsearch Score:\t0.722 ± 0.036\n"
     ]
    }
   ],
   "source": [
    "printScore(\"Decision Tree with Bagging and gridsearch\", gs)"
   ]
  },
  {
   "cell_type": "code",
   "execution_count": 152,
   "metadata": {
    "collapsed": false
   },
   "outputs": [
    {
     "name": "stdout",
     "output_type": "stream",
     "text": [
      "K Nearest Neighbors Score:\t0.662 ± 0.025\n"
     ]
    }
   ],
   "source": [
    "printScore(\"K Nearest Neighbors\", knn)"
   ]
  },
  {
   "cell_type": "code",
   "execution_count": 153,
   "metadata": {
    "collapsed": false
   },
   "outputs": [
    {
     "name": "stdout",
     "output_type": "stream",
     "text": [
      "Extra trees Score:\t0.709 ± 0.03\n"
     ]
    }
   ],
   "source": [
    "et = ExtraTreesClassifier()\n",
    "printScore(\"Extra trees\", et)"
   ]
  },
  {
   "cell_type": "code",
   "execution_count": 154,
   "metadata": {
    "collapsed": false
   },
   "outputs": [
    {
     "name": "stdout",
     "output_type": "stream",
     "text": [
      "Bagging K Nearest Neighbors Score:\t0.667 ± 0.02\n"
     ]
    }
   ],
   "source": [
    "bgknn = BaggingClassifier(knn)\n",
    "printScore(\"Bagging K Nearest Neighbors\", bgknn)"
   ]
  },
  {
   "cell_type": "code",
   "execution_count": 155,
   "metadata": {
    "collapsed": false
   },
   "outputs": [],
   "source": [
    "params = {'bootstrap_features': [False, True],\n",
    "          'max_features': [0.5, 0.7, 1.0],\n",
    "          'max_samples': [0.5, 0.7, 1.0],\n",
    "          'n_estimators': [2, 5, 10, 20],\n",
    "         }\n",
    "    \n",
    "gsbdt = GridSearchCV(bgknn, params)"
   ]
  },
  {
   "cell_type": "code",
   "execution_count": 156,
   "metadata": {
    "collapsed": false
   },
   "outputs": [
    {
     "name": "stdout",
     "output_type": "stream",
     "text": [
      "Bagging K Nearest Neighbors with GridSearch Score:\t0.649 ± 0.02\n"
     ]
    }
   ],
   "source": [
    "printScore(\"Bagging K Nearest Neighbors with GridSearch\", gsbdt)"
   ]
  },
  {
   "cell_type": "code",
   "execution_count": 209,
   "metadata": {
    "collapsed": false,
    "focus": false,
    "id": "4239e458-28bd-4675-8db3-c1d9c02b9854"
   },
   "outputs": [],
   "source": [
    "## YOUR CODE HERE\n",
    "import json\n",
    "import urllib\n",
    "import requests\n",
    "from fake_useragent import UserAgent\n",
    "import time\n",
    "import random\n",
    "\n",
    "ratings = []\n",
    "\n",
    "ua = UserAgent()\n",
    "apil = \"http://api.glassdoor.com/api/\"\n",
    "for co in withsal[\"testco\"].values:\n",
    "    api_url = apil+'api.htm?t.p=93008&t.k=i6rFbHwraZc&userip=192.168.1.5&format=json&v=1&action=employers&e='+co\n",
    "    req = requests.get(api_url, headers={'User-Agent': 'Mozilla/5.0'})\n",
    "    response = json.loads(req.content)\n",
    "    try:\n",
    "        ratings.append(response[\"response\"][\"employers\"][0][\"overallRating\"])\n",
    "    except:\n",
    "        ratings.append(\"NA\")"
   ]
  },
  {
   "cell_type": "code",
   "execution_count": 227,
   "metadata": {
    "collapsed": true
   },
   "outputs": [],
   "source": [
    "rate = [i if ratings != \"NA\" else np.nan for i in ratings]"
   ]
  },
  {
   "cell_type": "code",
   "execution_count": 228,
   "metadata": {
    "collapsed": false
   },
   "outputs": [],
   "source": [
    "withsal[\"rate\"] = rate"
   ]
  },
  {
   "cell_type": "code",
   "execution_count": 233,
   "metadata": {
    "collapsed": false
   },
   "outputs": [
    {
     "data": {
      "text/plain": [
       "<matplotlib.axes._subplots.AxesSubplot at 0x11ea5ea90>"
      ]
     },
     "execution_count": 233,
     "metadata": {},
     "output_type": "execute_result"
    },
    {
     "data": {
      "image/png": "[encoded data removed]",
      "text/plain": [
       "<matplotlib.figure.Figure at 0x11e3c1250>"
      ]
     },
     "metadata": {},
     "output_type": "display_data"
    }
   ],
   "source": [
    "sns.distplot(withsal[withsal[\"rate\"]!=\"NA\"].ratings)"
   ]
  },
  {
   "cell_type": "code",
   "execution_count": 242,
   "metadata": {
    "collapsed": false
   },
   "outputs": [
    {
     "data": {
      "text/plain": [
       "3.9    23\n",
       "3.2    16\n",
       "3.5    15\n",
       "3.7    14\n",
       "0.0    12\n",
       "3.6    11\n",
       "4.0    10\n",
       "3.4    10\n",
       "3.1    10\n",
       "3.0    10\n",
       "3.3     8\n",
       "4.2     5\n",
       "2.8     3\n",
       "3.8     3\n",
       "4.6     3\n",
       "5.0     3\n",
       "4.5     2\n",
       "4.8     2\n",
       "1.6     2\n",
       "2.3     1\n",
       "2.0     1\n",
       "4.1     1\n",
       "2.7     1\n",
       "2.6     1\n",
       "4.7     1\n",
       "2.5     1\n",
       "4.4     1\n",
       "Name: rate, dtype: int64"
      ]
     },
     "execution_count": 242,
     "metadata": {},
     "output_type": "execute_result"
    }
   ],
   "source": [
    "withsal[withsal[\"rate\"]!=\"NA\"].rate.value_counts().sort_values(ascending=False)"
   ]
  },
  {
   "cell_type": "code",
   "execution_count": 243,
   "metadata": {
    "collapsed": false
   },
   "outputs": [
    {
     "data": {
      "text/html": [
       "<div>\n",
       "<table border=\"1\" class=\"dataframe\">\n",
       "  <thead>\n",
       "    <tr style=\"text-align: right;\">\n",
       "      <th></th>\n",
       "      <th>title</th>\n",
       "      <th>company</th>\n",
       "      <th>location</th>\n",
       "      <th>salary</th>\n",
       "      <th>summary</th>\n",
       "      <th>avg</th>\n",
       "      <th>target</th>\n",
       "      <th>status</th>\n",
       "      <th>testco</th>\n",
       "      <th>ratings</th>\n",
       "      <th>rate</th>\n",
       "    </tr>\n",
       "  </thead>\n",
       "  <tbody>\n",
       "    <tr>\n",
       "      <th>0</th>\n",
       "      <td>Data Scientist 5796057</td>\n",
       "      <td>Avispa Technology</td>\n",
       "      <td>Houston, TX</td>\n",
       "      <td>[80000, 120000]</td>\n",
       "      <td>works with multi-functional teams focused on e...</td>\n",
       "      <td>100000</td>\n",
       "      <td>1</td>\n",
       "      <td>0</td>\n",
       "      <td>Avispa Technology</td>\n",
       "      <td>3</td>\n",
       "      <td>3</td>\n",
       "    </tr>\n",
       "    <tr>\n",
       "      <th>1</th>\n",
       "      <td>Principal Data Scientist</td>\n",
       "      <td>DISYS</td>\n",
       "      <td>Houston, TX</td>\n",
       "      <td>[135000]</td>\n",
       "      <td>works with multi-functional teams focused on e...</td>\n",
       "      <td>135000</td>\n",
       "      <td>1</td>\n",
       "      <td>2</td>\n",
       "      <td>DISYS</td>\n",
       "      <td>3.1</td>\n",
       "      <td>3.1</td>\n",
       "    </tr>\n",
       "    <tr>\n",
       "      <th>3</th>\n",
       "      <td>Marketing Manager | Strategic Data Analysis</td>\n",
       "      <td>Clearpoint</td>\n",
       "      <td>Houston, TX</td>\n",
       "      <td>[105000, 115000]</td>\n",
       "      <td>must have strong data analysis experience. the...</td>\n",
       "      <td>110000</td>\n",
       "      <td>1</td>\n",
       "      <td>3</td>\n",
       "      <td>Clearpoint</td>\n",
       "      <td>3.9</td>\n",
       "      <td>3.9</td>\n",
       "    </tr>\n",
       "    <tr>\n",
       "      <th>4</th>\n",
       "      <td>Senior Predictive Modeling Actuary</td>\n",
       "      <td>Selby Jennings</td>\n",
       "      <td>Houston, TX</td>\n",
       "      <td>[70000, 130000]</td>\n",
       "      <td>senior predictive modeler a leading global ins...</td>\n",
       "      <td>100000</td>\n",
       "      <td>1</td>\n",
       "      <td>1</td>\n",
       "      <td>Selby Jennings</td>\n",
       "      <td>3.5</td>\n",
       "      <td>3.5</td>\n",
       "    </tr>\n",
       "    <tr>\n",
       "      <th>9</th>\n",
       "      <td>Catastrophe Risk Analyst - Quantitative</td>\n",
       "      <td>Selby Jennings</td>\n",
       "      <td>Houston, TX</td>\n",
       "      <td>[75000, 120000]</td>\n",
       "      <td>this is for a portfolio analyst with one of th...</td>\n",
       "      <td>97500</td>\n",
       "      <td>1</td>\n",
       "      <td>0</td>\n",
       "      <td>Selby Jennings</td>\n",
       "      <td>3.5</td>\n",
       "      <td>3.5</td>\n",
       "    </tr>\n",
       "    <tr>\n",
       "      <th>17</th>\n",
       "      <td>Assistant/Associate Research Scientist</td>\n",
       "      <td>The University of Arizona</td>\n",
       "      <td>Phoenix, AZ</td>\n",
       "      <td>[80000, 110000]</td>\n",
       "      <td>extract, integrate, and analyze health data fr...</td>\n",
       "      <td>95000</td>\n",
       "      <td>1</td>\n",
       "      <td>0</td>\n",
       "      <td>The University of Arizona</td>\n",
       "      <td>4</td>\n",
       "      <td>4</td>\n",
       "    </tr>\n",
       "    <tr>\n",
       "      <th>24</th>\n",
       "      <td>Sr. Applications Engineer</td>\n",
       "      <td>Reckitt Benckiser Group</td>\n",
       "      <td>Phoenix, AZ</td>\n",
       "      <td>[90000, 100000]</td>\n",
       "      <td>present data and technical papers. design, fil...</td>\n",
       "      <td>95000</td>\n",
       "      <td>1</td>\n",
       "      <td>1</td>\n",
       "      <td>Reckitt Benckiser Group</td>\n",
       "      <td>3.2</td>\n",
       "      <td>3.2</td>\n",
       "    </tr>\n",
       "    <tr>\n",
       "      <th>27</th>\n",
       "      <td>Data Scientist</td>\n",
       "      <td>Hirewell</td>\n",
       "      <td>Chicago, IL</td>\n",
       "      <td>[85000]</td>\n",
       "      <td>practical ability to visualize data, communica...</td>\n",
       "      <td>85000</td>\n",
       "      <td>1</td>\n",
       "      <td>0</td>\n",
       "      <td>Hirewell</td>\n",
       "      <td>4.6</td>\n",
       "      <td>4.6</td>\n",
       "    </tr>\n",
       "    <tr>\n",
       "      <th>28</th>\n",
       "      <td>Data Scientist</td>\n",
       "      <td>Workbridge Associates</td>\n",
       "      <td>Chicago, IL</td>\n",
       "      <td>[100000, 130000]</td>\n",
       "      <td>etl and data warehousing experience. a leading...</td>\n",
       "      <td>115000</td>\n",
       "      <td>1</td>\n",
       "      <td>0</td>\n",
       "      <td>Workbridge Associates</td>\n",
       "      <td>3.4</td>\n",
       "      <td>3.4</td>\n",
       "    </tr>\n",
       "    <tr>\n",
       "      <th>29</th>\n",
       "      <td>Data Scientist Big Data/Artificial Intelligence</td>\n",
       "      <td>Selby Jennings</td>\n",
       "      <td>Chicago, IL</td>\n",
       "      <td>[135000, 165000]</td>\n",
       "      <td>data scientist big data/artificial intelligenc...</td>\n",
       "      <td>150000</td>\n",
       "      <td>1</td>\n",
       "      <td>0</td>\n",
       "      <td>Selby Jennings</td>\n",
       "      <td>3.5</td>\n",
       "      <td>3.5</td>\n",
       "    </tr>\n",
       "    <tr>\n",
       "      <th>31</th>\n",
       "      <td>Data Scientist</td>\n",
       "      <td>Jobspring Partners</td>\n",
       "      <td>Chicago, IL</td>\n",
       "      <td>[110000, 120000]</td>\n",
       "      <td>well we are looking for a skilled data scienti...</td>\n",
       "      <td>115000</td>\n",
       "      <td>1</td>\n",
       "      <td>0</td>\n",
       "      <td>Jobspring Partners</td>\n",
       "      <td>3.5</td>\n",
       "      <td>3.5</td>\n",
       "    </tr>\n",
       "    <tr>\n",
       "      <th>32</th>\n",
       "      <td>Lead Data Scientist</td>\n",
       "      <td>Analytic Recruiting</td>\n",
       "      <td>Chicago, IL</td>\n",
       "      <td>[140000]</td>\n",
       "      <td>take analytical objectives and define data req...</td>\n",
       "      <td>140000</td>\n",
       "      <td>1</td>\n",
       "      <td>0</td>\n",
       "      <td>Analytic Recruiting</td>\n",
       "      <td>3.3</td>\n",
       "      <td>3.3</td>\n",
       "    </tr>\n",
       "    <tr>\n",
       "      <th>33</th>\n",
       "      <td>Software Scientist</td>\n",
       "      <td>Jobspring Partners</td>\n",
       "      <td>Chicago, IL</td>\n",
       "      <td>[75000, 100000]</td>\n",
       "      <td>this mid-sized start needs help building out t...</td>\n",
       "      <td>87500</td>\n",
       "      <td>1</td>\n",
       "      <td>0</td>\n",
       "      <td>Jobspring Partners</td>\n",
       "      <td>3.5</td>\n",
       "      <td>3.5</td>\n",
       "    </tr>\n",
       "    <tr>\n",
       "      <th>40</th>\n",
       "      <td>Data Scientist, Predictive Modeling</td>\n",
       "      <td>Workbridge Associates</td>\n",
       "      <td>New York, NY</td>\n",
       "      <td>[100000, 130000]</td>\n",
       "      <td>they are looking for a skilled data scientist ...</td>\n",
       "      <td>115000</td>\n",
       "      <td>1</td>\n",
       "      <td>0</td>\n",
       "      <td>Workbridge Associates</td>\n",
       "      <td>3.4</td>\n",
       "      <td>3.4</td>\n",
       "    </tr>\n",
       "    <tr>\n",
       "      <th>41</th>\n",
       "      <td>Data Scientist</td>\n",
       "      <td>Smith Hanley Associates</td>\n",
       "      <td>New York, NY</td>\n",
       "      <td>[75000, 90000]</td>\n",
       "      <td>missing data imputation. conduct basic researc...</td>\n",
       "      <td>82500</td>\n",
       "      <td>1</td>\n",
       "      <td>0</td>\n",
       "      <td>Smith Hanley Associates</td>\n",
       "      <td>4.2</td>\n",
       "      <td>4.2</td>\n",
       "    </tr>\n",
       "    <tr>\n",
       "      <th>42</th>\n",
       "      <td>Data Scientist</td>\n",
       "      <td>Workbridge Associates</td>\n",
       "      <td>New York, NY</td>\n",
       "      <td>[90000, 140000]</td>\n",
       "      <td>any other experience within data scalability, ...</td>\n",
       "      <td>115000</td>\n",
       "      <td>1</td>\n",
       "      <td>0</td>\n",
       "      <td>Workbridge Associates</td>\n",
       "      <td>3.4</td>\n",
       "      <td>3.4</td>\n",
       "    </tr>\n",
       "    <tr>\n",
       "      <th>44</th>\n",
       "      <td>Data Scientist</td>\n",
       "      <td>TalentHub Worldwide</td>\n",
       "      <td>New York, NY</td>\n",
       "      <td>[105000]</td>\n",
       "      <td>the data scientist assists in creating and mai...</td>\n",
       "      <td>105000</td>\n",
       "      <td>1</td>\n",
       "      <td>0</td>\n",
       "      <td>TalentHub Worldwide</td>\n",
       "      <td>5</td>\n",
       "      <td>5</td>\n",
       "    </tr>\n",
       "    <tr>\n",
       "      <th>46</th>\n",
       "      <td>Principal Data Scientist - Supply Chain</td>\n",
       "      <td>Analytic Recruiting</td>\n",
       "      <td>Dallas, TX</td>\n",
       "      <td>[90000, 170000]</td>\n",
       "      <td>data scientist, supply chain sought by fortune...</td>\n",
       "      <td>130000</td>\n",
       "      <td>1</td>\n",
       "      <td>2</td>\n",
       "      <td>Analytic Recruiting</td>\n",
       "      <td>3.3</td>\n",
       "      <td>3.3</td>\n",
       "    </tr>\n",
       "    <tr>\n",
       "      <th>47</th>\n",
       "      <td>Acquisition Marketing Data Scientist</td>\n",
       "      <td>Analytic Recruiting</td>\n",
       "      <td>Dallas, TX</td>\n",
       "      <td>[85000, 95000]</td>\n",
       "      <td>2-3 years of professional experience in data s...</td>\n",
       "      <td>90000</td>\n",
       "      <td>1</td>\n",
       "      <td>0</td>\n",
       "      <td>Analytic Recruiting</td>\n",
       "      <td>3.3</td>\n",
       "      <td>3.3</td>\n",
       "    </tr>\n",
       "    <tr>\n",
       "      <th>49</th>\n",
       "      <td>Data Scientist</td>\n",
       "      <td>Prime Team Partners</td>\n",
       "      <td>Dallas-Fort Worth, TX</td>\n",
       "      <td>[90000]</td>\n",
       "      <td>4874 data scientist*. experience working with ...</td>\n",
       "      <td>90000</td>\n",
       "      <td>1</td>\n",
       "      <td>0</td>\n",
       "      <td>Prime Team Partners</td>\n",
       "      <td>4.7</td>\n",
       "      <td>4.7</td>\n",
       "    </tr>\n",
       "    <tr>\n",
       "      <th>50</th>\n",
       "      <td>Catastrophe Risk Analyst - Quantitative</td>\n",
       "      <td>Selby Jennings</td>\n",
       "      <td>Dallas, TX</td>\n",
       "      <td>[75000, 120000]</td>\n",
       "      <td>this is a portfolio analyst with one of the wo...</td>\n",
       "      <td>97500</td>\n",
       "      <td>1</td>\n",
       "      <td>0</td>\n",
       "      <td>Selby Jennings</td>\n",
       "      <td>3.5</td>\n",
       "      <td>3.5</td>\n",
       "    </tr>\n",
       "    <tr>\n",
       "      <th>53</th>\n",
       "      <td>Mathematical Statistician</td>\n",
       "      <td>U.S. Department of Labor</td>\n",
       "      <td>Washington, DC</td>\n",
       "      <td>[92145, 119794]</td>\n",
       "      <td>develops and executes programs to extract data...</td>\n",
       "      <td>105969</td>\n",
       "      <td>1</td>\n",
       "      <td>0</td>\n",
       "      <td>U.S. Department of Labor</td>\n",
       "      <td>3.3</td>\n",
       "      <td>3.3</td>\n",
       "    </tr>\n",
       "    <tr>\n",
       "      <th>55</th>\n",
       "      <td>Data Scientist</td>\n",
       "      <td>Workbridge Associates</td>\n",
       "      <td>Bethesda, MD</td>\n",
       "      <td>[120000, 140000]</td>\n",
       "      <td>this data scientist role requires serious data...</td>\n",
       "      <td>130000</td>\n",
       "      <td>1</td>\n",
       "      <td>0</td>\n",
       "      <td>Workbridge Associates</td>\n",
       "      <td>3.4</td>\n",
       "      <td>3.4</td>\n",
       "    </tr>\n",
       "    <tr>\n",
       "      <th>56</th>\n",
       "      <td>Data Scientist</td>\n",
       "      <td>Tygart Technology, Inc.</td>\n",
       "      <td>Washington, DC</td>\n",
       "      <td>[140000]</td>\n",
       "      <td>tygart is currently seeking data scientist to ...</td>\n",
       "      <td>140000</td>\n",
       "      <td>1</td>\n",
       "      <td>0</td>\n",
       "      <td>Tygart Technology, Inc.</td>\n",
       "      <td>4.1</td>\n",
       "      <td>4.1</td>\n",
       "    </tr>\n",
       "    <tr>\n",
       "      <th>58</th>\n",
       "      <td>Big Data Engineer | Remote | Mature Start-up</td>\n",
       "      <td>TEEMA Solutions Group</td>\n",
       "      <td>Philadelphia, PA</td>\n",
       "      <td>[150000]</td>\n",
       "      <td>our big data engineer should be able to develo...</td>\n",
       "      <td>150000</td>\n",
       "      <td>1</td>\n",
       "      <td>0</td>\n",
       "      <td>TEEMA Solutions Group</td>\n",
       "      <td>4.8</td>\n",
       "      <td>4.8</td>\n",
       "    </tr>\n",
       "    <tr>\n",
       "      <th>59</th>\n",
       "      <td>Statistician / Methodologist-PHARMACEUTICAl</td>\n",
       "      <td>Smith Hanley Associates</td>\n",
       "      <td>Philadelphia, PA</td>\n",
       "      <td>[80000, 130000]</td>\n",
       "      <td>experience analyzing large amounts of data. ap...</td>\n",
       "      <td>105000</td>\n",
       "      <td>1</td>\n",
       "      <td>0</td>\n",
       "      <td>Smith Hanley Associates</td>\n",
       "      <td>4.2</td>\n",
       "      <td>4.2</td>\n",
       "    </tr>\n",
       "    <tr>\n",
       "      <th>60</th>\n",
       "      <td>Healthcare Data Scientist - R, Machine Learnin...</td>\n",
       "      <td>Workbridge Associates</td>\n",
       "      <td>King of Prussia, PA</td>\n",
       "      <td>[75000, 105000]</td>\n",
       "      <td>experience with heavy data extraction. data vi...</td>\n",
       "      <td>90000</td>\n",
       "      <td>1</td>\n",
       "      <td>0</td>\n",
       "      <td>Workbridge Associates</td>\n",
       "      <td>3.4</td>\n",
       "      <td>3.4</td>\n",
       "    </tr>\n",
       "    <tr>\n",
       "      <th>61</th>\n",
       "      <td>Healthcare Data Scientist - Modeling, Machine-...</td>\n",
       "      <td>Workbridge Associates</td>\n",
       "      <td>Camden, NJ</td>\n",
       "      <td>[75000, 100000]</td>\n",
       "      <td>experience with heavy data extraction. data vi...</td>\n",
       "      <td>87500</td>\n",
       "      <td>1</td>\n",
       "      <td>0</td>\n",
       "      <td>Workbridge Associates</td>\n",
       "      <td>3.4</td>\n",
       "      <td>3.4</td>\n",
       "    </tr>\n",
       "    <tr>\n",
       "      <th>63</th>\n",
       "      <td>Business Manager - RADARS</td>\n",
       "      <td>Denver Health</td>\n",
       "      <td>Denver, CO</td>\n",
       "      <td>[88091]</td>\n",
       "      <td>budget development, processing and monitoring ...</td>\n",
       "      <td>88091</td>\n",
       "      <td>1</td>\n",
       "      <td>3</td>\n",
       "      <td>Denver Health</td>\n",
       "      <td>3.5</td>\n",
       "      <td>3.5</td>\n",
       "    </tr>\n",
       "    <tr>\n",
       "      <th>64</th>\n",
       "      <td>Research Scientist 5A Eating Disorder Unit</td>\n",
       "      <td>Denver Health</td>\n",
       "      <td>Denver, CO</td>\n",
       "      <td>[93645]</td>\n",
       "      <td>two years of scientific research related exper...</td>\n",
       "      <td>93645</td>\n",
       "      <td>1</td>\n",
       "      <td>0</td>\n",
       "      <td>Denver Health</td>\n",
       "      <td>3.5</td>\n",
       "      <td>3.5</td>\n",
       "    </tr>\n",
       "    <tr>\n",
       "      <th>...</th>\n",
       "      <td>...</td>\n",
       "      <td>...</td>\n",
       "      <td>...</td>\n",
       "      <td>...</td>\n",
       "      <td>...</td>\n",
       "      <td>...</td>\n",
       "      <td>...</td>\n",
       "      <td>...</td>\n",
       "      <td>...</td>\n",
       "      <td>...</td>\n",
       "      <td>...</td>\n",
       "    </tr>\n",
       "    <tr>\n",
       "      <th>102</th>\n",
       "      <td>Supervisory Statistician (Health)</td>\n",
       "      <td>Centers for Disease Control and Prevention</td>\n",
       "      <td>Atlanta, GA</td>\n",
       "      <td>[122744, 159572]</td>\n",
       "      <td>provide reviews of program and research data m...</td>\n",
       "      <td>141158</td>\n",
       "      <td>1</td>\n",
       "      <td>0</td>\n",
       "      <td>Centers for Disease Control and Prevention</td>\n",
       "      <td>3.9</td>\n",
       "      <td>3.9</td>\n",
       "    </tr>\n",
       "    <tr>\n",
       "      <th>104</th>\n",
       "      <td>Data Scientist (Excellent coding skills in Pyt...</td>\n",
       "      <td>Workbridge Associates</td>\n",
       "      <td>San Francisco, CA</td>\n",
       "      <td>[130000, 160000]</td>\n",
       "      <td>the data scientist position requires a foundat...</td>\n",
       "      <td>145000</td>\n",
       "      <td>1</td>\n",
       "      <td>0</td>\n",
       "      <td>Workbridge Associates</td>\n",
       "      <td>3.4</td>\n",
       "      <td>3.4</td>\n",
       "    </tr>\n",
       "    <tr>\n",
       "      <th>105</th>\n",
       "      <td>Health Scientist</td>\n",
       "      <td>Centers for Disease Control and Prevention</td>\n",
       "      <td>Atlanta, GA</td>\n",
       "      <td>[122744, 159572]</td>\n",
       "      <td>as a health scientist you will:. data analysis...</td>\n",
       "      <td>141158</td>\n",
       "      <td>1</td>\n",
       "      <td>0</td>\n",
       "      <td>Centers for Disease Control and Prevention</td>\n",
       "      <td>3.9</td>\n",
       "      <td>3.9</td>\n",
       "    </tr>\n",
       "    <tr>\n",
       "      <th>106</th>\n",
       "      <td>Health Scientist (Vulnerable Populations)</td>\n",
       "      <td>Centers for Disease Control and Prevention</td>\n",
       "      <td>Atlanta, GA</td>\n",
       "      <td>[122744, 159572]</td>\n",
       "      <td>as a health scientist (vulnerable populations)...</td>\n",
       "      <td>141158</td>\n",
       "      <td>1</td>\n",
       "      <td>0</td>\n",
       "      <td>Centers for Disease Control and Prevention</td>\n",
       "      <td>3.9</td>\n",
       "      <td>3.9</td>\n",
       "    </tr>\n",
       "    <tr>\n",
       "      <th>108</th>\n",
       "      <td>Data Security Engineer 5652041</td>\n",
       "      <td>Avispa Technology</td>\n",
       "      <td>Sugar Land, TX</td>\n",
       "      <td>[125000, 145000]</td>\n",
       "      <td>data security engineer. architect and design i...</td>\n",
       "      <td>135000</td>\n",
       "      <td>1</td>\n",
       "      <td>0</td>\n",
       "      <td>Avispa Technology</td>\n",
       "      <td>3</td>\n",
       "      <td>3</td>\n",
       "    </tr>\n",
       "    <tr>\n",
       "      <th>122</th>\n",
       "      <td>Power Engineer Subject Matter Expert Metering</td>\n",
       "      <td>Level Four Solutions Group, Inc.</td>\n",
       "      <td>Tempe, AZ</td>\n",
       "      <td>[100000]</td>\n",
       "      <td>lead in analyzing meter data, and related func...</td>\n",
       "      <td>100000</td>\n",
       "      <td>1</td>\n",
       "      <td>0</td>\n",
       "      <td>Level Four Solutions Group, Inc.</td>\n",
       "      <td>3.9</td>\n",
       "      <td>3.9</td>\n",
       "    </tr>\n",
       "    <tr>\n",
       "      <th>135</th>\n",
       "      <td>Director, Marketing Science</td>\n",
       "      <td>Hearts &amp; Science</td>\n",
       "      <td>Dallas, TX</td>\n",
       "      <td>[175000]</td>\n",
       "      <td>this director, marketing sciences @ hearts &amp; s...</td>\n",
       "      <td>175000</td>\n",
       "      <td>1</td>\n",
       "      <td>0</td>\n",
       "      <td>Hearts &amp; Science</td>\n",
       "      <td>3.2</td>\n",
       "      <td>3.2</td>\n",
       "    </tr>\n",
       "    <tr>\n",
       "      <th>148</th>\n",
       "      <td>Big Data Engineer | Remote | Mature Start-up</td>\n",
       "      <td>TEEMA Solutions Group</td>\n",
       "      <td>Philadelphia, PA</td>\n",
       "      <td>[150000]</td>\n",
       "      <td>are you a big data engineer who has experience...</td>\n",
       "      <td>150000</td>\n",
       "      <td>1</td>\n",
       "      <td>0</td>\n",
       "      <td>TEEMA Solutions Group</td>\n",
       "      <td>4.8</td>\n",
       "      <td>4.8</td>\n",
       "    </tr>\n",
       "    <tr>\n",
       "      <th>150</th>\n",
       "      <td>Information Security Engineer</td>\n",
       "      <td>City of Philadelphia</td>\n",
       "      <td>Philadelphia, PA</td>\n",
       "      <td>[85000, 95000]</td>\n",
       "      <td>monitoring and analysis of security event data...</td>\n",
       "      <td>90000</td>\n",
       "      <td>1</td>\n",
       "      <td>0</td>\n",
       "      <td>City of Philadelphia</td>\n",
       "      <td>3.3</td>\n",
       "      <td>3.3</td>\n",
       "    </tr>\n",
       "    <tr>\n",
       "      <th>152</th>\n",
       "      <td>Data Quality Engineer</td>\n",
       "      <td>The JPI Group</td>\n",
       "      <td>Newtown, PA</td>\n",
       "      <td>[120000]</td>\n",
       "      <td>data quality engineer*. monitor data process p...</td>\n",
       "      <td>120000</td>\n",
       "      <td>1</td>\n",
       "      <td>0</td>\n",
       "      <td>The JPI Group</td>\n",
       "      <td>4</td>\n",
       "      <td>4</td>\n",
       "    </tr>\n",
       "    <tr>\n",
       "      <th>156</th>\n",
       "      <td>Mobile Developer - iOS</td>\n",
       "      <td>Cartasite LLC</td>\n",
       "      <td>Denver, CO</td>\n",
       "      <td>[110000, 130000]</td>\n",
       "      <td>bachelors degree in computer science or simila...</td>\n",
       "      <td>120000</td>\n",
       "      <td>1</td>\n",
       "      <td>0</td>\n",
       "      <td>Cartasite LLC</td>\n",
       "      <td>4.2</td>\n",
       "      <td>4.2</td>\n",
       "    </tr>\n",
       "    <tr>\n",
       "      <th>160</th>\n",
       "      <td>Analyst Financial Sr</td>\n",
       "      <td>Denver Health</td>\n",
       "      <td>Denver, CO</td>\n",
       "      <td>[82683]</td>\n",
       "      <td>bachelors degree in finance, accounting, compu...</td>\n",
       "      <td>82683</td>\n",
       "      <td>1</td>\n",
       "      <td>0</td>\n",
       "      <td>Denver Health</td>\n",
       "      <td>3.5</td>\n",
       "      <td>3.5</td>\n",
       "    </tr>\n",
       "    <tr>\n",
       "      <th>161</th>\n",
       "      <td>Business Intelligence Developer</td>\n",
       "      <td>Ascendo</td>\n",
       "      <td>Miami, FL</td>\n",
       "      <td>[100000]</td>\n",
       "      <td>develop t-sql scripts for manipulating data. e...</td>\n",
       "      <td>100000</td>\n",
       "      <td>1</td>\n",
       "      <td>0</td>\n",
       "      <td>Ascendo</td>\n",
       "      <td>3</td>\n",
       "      <td>3</td>\n",
       "    </tr>\n",
       "    <tr>\n",
       "      <th>162</th>\n",
       "      <td>SENIOR SYSTEMS ANALYST/PROGRAMMER</td>\n",
       "      <td>Miami-Dade County</td>\n",
       "      <td>Miami, FL</td>\n",
       "      <td>[67421, 107424]</td>\n",
       "      <td>college education in computer science can subs...</td>\n",
       "      <td>87422</td>\n",
       "      <td>1</td>\n",
       "      <td>0</td>\n",
       "      <td>Miami-Dade County</td>\n",
       "      <td>3.6</td>\n",
       "      <td>3.6</td>\n",
       "    </tr>\n",
       "    <tr>\n",
       "      <th>171</th>\n",
       "      <td>Sr. Salesforce Developer</td>\n",
       "      <td>Ascendo</td>\n",
       "      <td>Fort Lauderdale, FL</td>\n",
       "      <td>[200000]</td>\n",
       "      <td>proficient in data manipulation (soql and exce...</td>\n",
       "      <td>200000</td>\n",
       "      <td>1</td>\n",
       "      <td>1</td>\n",
       "      <td>Ascendo</td>\n",
       "      <td>3</td>\n",
       "      <td>3</td>\n",
       "    </tr>\n",
       "    <tr>\n",
       "      <th>174</th>\n",
       "      <td>Department Chairperson, Physical Sciences</td>\n",
       "      <td>Miami Dade College</td>\n",
       "      <td>Miami, FL</td>\n",
       "      <td>[82649]</td>\n",
       "      <td>ability to define problems, collect data, esta...</td>\n",
       "      <td>82649</td>\n",
       "      <td>1</td>\n",
       "      <td>0</td>\n",
       "      <td>Miami Dade College</td>\n",
       "      <td>3.8</td>\n",
       "      <td>3.8</td>\n",
       "    </tr>\n",
       "    <tr>\n",
       "      <th>180</th>\n",
       "      <td>Performance Improvement Consultant</td>\n",
       "      <td>Oregon Health &amp; Science University</td>\n",
       "      <td>Portland, OR</td>\n",
       "      <td>[77287, 115929]</td>\n",
       "      <td>basic understanding of statistical and data an...</td>\n",
       "      <td>96608</td>\n",
       "      <td>1</td>\n",
       "      <td>0</td>\n",
       "      <td>Oregon Health &amp; Science University</td>\n",
       "      <td>3.7</td>\n",
       "      <td>3.7</td>\n",
       "    </tr>\n",
       "    <tr>\n",
       "      <th>185</th>\n",
       "      <td>Business Systems Analyst</td>\n",
       "      <td>Port of Portland</td>\n",
       "      <td>Portland, OR</td>\n",
       "      <td>[76157, 119024]</td>\n",
       "      <td>data collection, update and analysis; such as ...</td>\n",
       "      <td>97590</td>\n",
       "      <td>1</td>\n",
       "      <td>0</td>\n",
       "      <td>Port of Portland</td>\n",
       "      <td>3.9</td>\n",
       "      <td>3.9</td>\n",
       "    </tr>\n",
       "    <tr>\n",
       "      <th>190</th>\n",
       "      <td>Policy Analyst - (Program Director 1)</td>\n",
       "      <td>Oregon Health &amp; Science University</td>\n",
       "      <td>Portland, OR</td>\n",
       "      <td>[85014, 127520]</td>\n",
       "      <td>complex analyses of federal and state laws and...</td>\n",
       "      <td>106267</td>\n",
       "      <td>1</td>\n",
       "      <td>0</td>\n",
       "      <td>Oregon Health &amp; Science University</td>\n",
       "      <td>3.7</td>\n",
       "      <td>3.7</td>\n",
       "    </tr>\n",
       "    <tr>\n",
       "      <th>191</th>\n",
       "      <td>Infection Preventionist</td>\n",
       "      <td>Oregon Health &amp; Science University</td>\n",
       "      <td>Portland, OR</td>\n",
       "      <td>[77286, 113656]</td>\n",
       "      <td>data analysis skills and experience. requires ...</td>\n",
       "      <td>95471</td>\n",
       "      <td>1</td>\n",
       "      <td>0</td>\n",
       "      <td>Oregon Health &amp; Science University</td>\n",
       "      <td>3.7</td>\n",
       "      <td>3.7</td>\n",
       "    </tr>\n",
       "    <tr>\n",
       "      <th>195</th>\n",
       "      <td>Director, Finance and Administration</td>\n",
       "      <td>Oregon Health &amp; Science University</td>\n",
       "      <td>Portland, OR</td>\n",
       "      <td>[108753, 174003]</td>\n",
       "      <td>demonstrated ability to accurately analyze com...</td>\n",
       "      <td>141378</td>\n",
       "      <td>1</td>\n",
       "      <td>0</td>\n",
       "      <td>Oregon Health &amp; Science University</td>\n",
       "      <td>3.7</td>\n",
       "      <td>3.7</td>\n",
       "    </tr>\n",
       "    <tr>\n",
       "      <th>199</th>\n",
       "      <td>Health Scientist (Vulnerable Populations)</td>\n",
       "      <td>Centers for Disease Control and Prevention</td>\n",
       "      <td>Atlanta, GA</td>\n",
       "      <td>[122744, 159572]</td>\n",
       "      <td>apply scientific principles &amp; techniques to de...</td>\n",
       "      <td>141158</td>\n",
       "      <td>1</td>\n",
       "      <td>0</td>\n",
       "      <td>Centers for Disease Control and Prevention</td>\n",
       "      <td>3.9</td>\n",
       "      <td>3.9</td>\n",
       "    </tr>\n",
       "    <tr>\n",
       "      <th>204</th>\n",
       "      <td>Director, Marketing Science</td>\n",
       "      <td>Hearts &amp; Science</td>\n",
       "      <td>Atlanta, GA</td>\n",
       "      <td>[175000]</td>\n",
       "      <td>this director, marketing sciences @ hearts &amp; s...</td>\n",
       "      <td>175000</td>\n",
       "      <td>1</td>\n",
       "      <td>0</td>\n",
       "      <td>Hearts &amp; Science</td>\n",
       "      <td>3.2</td>\n",
       "      <td>3.2</td>\n",
       "    </tr>\n",
       "    <tr>\n",
       "      <th>205</th>\n",
       "      <td>Clinical Admin, OB/GYN</td>\n",
       "      <td>Emory University</td>\n",
       "      <td>Atlanta, GA</td>\n",
       "      <td>[168600]</td>\n",
       "      <td>masters degree in business, finance, or relate...</td>\n",
       "      <td>168600</td>\n",
       "      <td>1</td>\n",
       "      <td>0</td>\n",
       "      <td>Emory University</td>\n",
       "      <td>3.9</td>\n",
       "      <td>3.9</td>\n",
       "    </tr>\n",
       "    <tr>\n",
       "      <th>217</th>\n",
       "      <td>Developer - Tick Data Specialist - $180,000-$2...</td>\n",
       "      <td>Caspian One Ltd</td>\n",
       "      <td>New York, NY</td>\n",
       "      <td>[230000]</td>\n",
       "      <td>my client is looking for this team to complete...</td>\n",
       "      <td>230000</td>\n",
       "      <td>1</td>\n",
       "      <td>0</td>\n",
       "      <td>Caspian One Ltd</td>\n",
       "      <td>4.5</td>\n",
       "      <td>4.5</td>\n",
       "    </tr>\n",
       "    <tr>\n",
       "      <th>220</th>\n",
       "      <td>Data Scientist</td>\n",
       "      <td>TalentHub Worldwide</td>\n",
       "      <td>New York, NY</td>\n",
       "      <td>[105000]</td>\n",
       "      <td>five or more years of related experience in th...</td>\n",
       "      <td>105000</td>\n",
       "      <td>1</td>\n",
       "      <td>0</td>\n",
       "      <td>TalentHub Worldwide</td>\n",
       "      <td>5</td>\n",
       "      <td>5</td>\n",
       "    </tr>\n",
       "    <tr>\n",
       "      <th>222</th>\n",
       "      <td>Data Engineer</td>\n",
       "      <td>VROOM</td>\n",
       "      <td>New York, NY</td>\n",
       "      <td>[80000, 100000]</td>\n",
       "      <td>as part of the data science team, work closely...</td>\n",
       "      <td>90000</td>\n",
       "      <td>1</td>\n",
       "      <td>0</td>\n",
       "      <td>VROOM</td>\n",
       "      <td>3.2</td>\n",
       "      <td>3.2</td>\n",
       "    </tr>\n",
       "    <tr>\n",
       "      <th>228</th>\n",
       "      <td>Senior Analyst�� Data Science</td>\n",
       "      <td>Liberty Mutual</td>\n",
       "      <td>Seattle, WA</td>\n",
       "      <td>[88800, 100800]</td>\n",
       "      <td>advanced knowledge of data wrangling tools and...</td>\n",
       "      <td>94800</td>\n",
       "      <td>1</td>\n",
       "      <td>1</td>\n",
       "      <td>Liberty Mutual</td>\n",
       "      <td>3.5</td>\n",
       "      <td>3.5</td>\n",
       "    </tr>\n",
       "    <tr>\n",
       "      <th>229</th>\n",
       "      <td>Data Scientist</td>\n",
       "      <td>Shyft</td>\n",
       "      <td>Seattle, WA</td>\n",
       "      <td>[90000, 110000]</td>\n",
       "      <td>as our data scientist, you will provide expert...</td>\n",
       "      <td>100000</td>\n",
       "      <td>1</td>\n",
       "      <td>0</td>\n",
       "      <td>Shyft</td>\n",
       "      <td>3.7</td>\n",
       "      <td>3.7</td>\n",
       "    </tr>\n",
       "    <tr>\n",
       "      <th>231</th>\n",
       "      <td>linux systems engineer (big data AWS migration)</td>\n",
       "      <td>Providence Partners and Associates</td>\n",
       "      <td>Austin, TX</td>\n",
       "      <td>[100000]</td>\n",
       "      <td>bs computer science. job  linux systems engine...</td>\n",
       "      <td>100000</td>\n",
       "      <td>1</td>\n",
       "      <td>0</td>\n",
       "      <td>Providence Partners and Associates</td>\n",
       "      <td>3.3</td>\n",
       "      <td>3.3</td>\n",
       "    </tr>\n",
       "  </tbody>\n",
       "</table>\n",
       "<p>72 rows × 11 columns</p>\n",
       "</div>"
      ],
      "text/plain": [
       "                                                 title  \\\n",
       "0                               Data Scientist 5796057   \n",
       "1                             Principal Data Scientist   \n",
       "3          Marketing Manager | Strategic Data Analysis   \n",
       "4                   Senior Predictive Modeling Actuary   \n",
       "9              Catastrophe Risk Analyst - Quantitative   \n",
       "17              Assistant/Associate Research Scientist   \n",
       "24                           Sr. Applications Engineer   \n",
       "27                                      Data Scientist   \n",
       "28                                      Data Scientist   \n",
       "29     Data Scientist Big Data/Artificial Intelligence   \n",
       "31                                      Data Scientist   \n",
       "32                                 Lead Data Scientist   \n",
       "33                                  Software Scientist   \n",
       "40                 Data Scientist, Predictive Modeling   \n",
       "41                                      Data Scientist   \n",
       "42                                      Data Scientist   \n",
       "44                                      Data Scientist   \n",
       "46             Principal Data Scientist - Supply Chain   \n",
       "47                Acquisition Marketing Data Scientist   \n",
       "49                                      Data Scientist   \n",
       "50             Catastrophe Risk Analyst - Quantitative   \n",
       "53                           Mathematical Statistician   \n",
       "55                                      Data Scientist   \n",
       "56                                      Data Scientist   \n",
       "58        Big Data Engineer | Remote | Mature Start-up   \n",
       "59         Statistician / Methodologist-PHARMACEUTICAl   \n",
       "60   Healthcare Data Scientist - R, Machine Learnin...   \n",
       "61   Healthcare Data Scientist - Modeling, Machine-...   \n",
       "63                           Business Manager - RADARS   \n",
       "64          Research Scientist 5A Eating Disorder Unit   \n",
       "..                                                 ...   \n",
       "102                  Supervisory Statistician (Health)   \n",
       "104  Data Scientist (Excellent coding skills in Pyt...   \n",
       "105                                   Health Scientist   \n",
       "106          Health Scientist (Vulnerable Populations)   \n",
       "108                     Data Security Engineer 5652041   \n",
       "122      Power Engineer Subject Matter Expert Metering   \n",
       "135                        Director, Marketing Science   \n",
       "148       Big Data Engineer | Remote | Mature Start-up   \n",
       "150                      Information Security Engineer   \n",
       "152                              Data Quality Engineer   \n",
       "156                             Mobile Developer - iOS   \n",
       "160                               Analyst Financial Sr   \n",
       "161                    Business Intelligence Developer   \n",
       "162                  SENIOR SYSTEMS ANALYST/PROGRAMMER   \n",
       "171                           Sr. Salesforce Developer   \n",
       "174          Department Chairperson, Physical Sciences   \n",
       "180                 Performance Improvement Consultant   \n",
       "185                           Business Systems Analyst   \n",
       "190              Policy Analyst - (Program Director 1)   \n",
       "191                            Infection Preventionist   \n",
       "195               Director, Finance and Administration   \n",
       "199          Health Scientist (Vulnerable Populations)   \n",
       "204                        Director, Marketing Science   \n",
       "205                             Clinical Admin, OB/GYN   \n",
       "217  Developer - Tick Data Specialist - $180,000-$2...   \n",
       "220                                     Data Scientist   \n",
       "222                                      Data Engineer   \n",
       "228                      Senior Analyst�� Data Science   \n",
       "229                                     Data Scientist   \n",
       "231    linux systems engineer (big data AWS migration)   \n",
       "\n",
       "                                        company               location  \\\n",
       "0                             Avispa Technology            Houston, TX   \n",
       "1                                         DISYS            Houston, TX   \n",
       "3                                    Clearpoint            Houston, TX   \n",
       "4                                Selby Jennings            Houston, TX   \n",
       "9                                Selby Jennings            Houston, TX   \n",
       "17                    The University of Arizona            Phoenix, AZ   \n",
       "24                      Reckitt Benckiser Group            Phoenix, AZ   \n",
       "27                                     Hirewell            Chicago, IL   \n",
       "28                        Workbridge Associates            Chicago, IL   \n",
       "29                               Selby Jennings            Chicago, IL   \n",
       "31                           Jobspring Partners            Chicago, IL   \n",
       "32                          Analytic Recruiting            Chicago, IL   \n",
       "33                           Jobspring Partners            Chicago, IL   \n",
       "40                        Workbridge Associates           New York, NY   \n",
       "41                      Smith Hanley Associates           New York, NY   \n",
       "42                        Workbridge Associates           New York, NY   \n",
       "44                          TalentHub Worldwide           New York, NY   \n",
       "46                          Analytic Recruiting             Dallas, TX   \n",
       "47                          Analytic Recruiting             Dallas, TX   \n",
       "49                          Prime Team Partners  Dallas-Fort Worth, TX   \n",
       "50                               Selby Jennings             Dallas, TX   \n",
       "53                     U.S. Department of Labor         Washington, DC   \n",
       "55                        Workbridge Associates           Bethesda, MD   \n",
       "56                      Tygart Technology, Inc.         Washington, DC   \n",
       "58                        TEEMA Solutions Group       Philadelphia, PA   \n",
       "59                      Smith Hanley Associates       Philadelphia, PA   \n",
       "60                        Workbridge Associates    King of Prussia, PA   \n",
       "61                        Workbridge Associates             Camden, NJ   \n",
       "63                                Denver Health             Denver, CO   \n",
       "64                                Denver Health             Denver, CO   \n",
       "..                                          ...                    ...   \n",
       "102  Centers for Disease Control and Prevention            Atlanta, GA   \n",
       "104                       Workbridge Associates      San Francisco, CA   \n",
       "105  Centers for Disease Control and Prevention            Atlanta, GA   \n",
       "106  Centers for Disease Control and Prevention            Atlanta, GA   \n",
       "108                           Avispa Technology         Sugar Land, TX   \n",
       "122            Level Four Solutions Group, Inc.              Tempe, AZ   \n",
       "135                            Hearts & Science             Dallas, TX   \n",
       "148                       TEEMA Solutions Group       Philadelphia, PA   \n",
       "150                        City of Philadelphia       Philadelphia, PA   \n",
       "152                               The JPI Group            Newtown, PA   \n",
       "156                               Cartasite LLC             Denver, CO   \n",
       "160                               Denver Health             Denver, CO   \n",
       "161                                     Ascendo              Miami, FL   \n",
       "162                           Miami-Dade County              Miami, FL   \n",
       "171                                     Ascendo    Fort Lauderdale, FL   \n",
       "174                          Miami Dade College              Miami, FL   \n",
       "180          Oregon Health & Science University           Portland, OR   \n",
       "185                            Port of Portland           Portland, OR   \n",
       "190          Oregon Health & Science University           Portland, OR   \n",
       "191          Oregon Health & Science University           Portland, OR   \n",
       "195          Oregon Health & Science University           Portland, OR   \n",
       "199  Centers for Disease Control and Prevention            Atlanta, GA   \n",
       "204                            Hearts & Science            Atlanta, GA   \n",
       "205                            Emory University            Atlanta, GA   \n",
       "217                             Caspian One Ltd           New York, NY   \n",
       "220                         TalentHub Worldwide           New York, NY   \n",
       "222                                       VROOM           New York, NY   \n",
       "228                              Liberty Mutual            Seattle, WA   \n",
       "229                                       Shyft            Seattle, WA   \n",
       "231          Providence Partners and Associates             Austin, TX   \n",
       "\n",
       "               salary                                            summary  \\\n",
       "0     [80000, 120000]  works with multi-functional teams focused on e...   \n",
       "1            [135000]  works with multi-functional teams focused on e...   \n",
       "3    [105000, 115000]  must have strong data analysis experience. the...   \n",
       "4     [70000, 130000]  senior predictive modeler a leading global ins...   \n",
       "9     [75000, 120000]  this is for a portfolio analyst with one of th...   \n",
       "17    [80000, 110000]  extract, integrate, and analyze health data fr...   \n",
       "24    [90000, 100000]  present data and technical papers. design, fil...   \n",
       "27            [85000]  practical ability to visualize data, communica...   \n",
       "28   [100000, 130000]  etl and data warehousing experience. a leading...   \n",
       "29   [135000, 165000]  data scientist big data/artificial intelligenc...   \n",
       "31   [110000, 120000]  well we are looking for a skilled data scienti...   \n",
       "32           [140000]  take analytical objectives and define data req...   \n",
       "33    [75000, 100000]  this mid-sized start needs help building out t...   \n",
       "40   [100000, 130000]  they are looking for a skilled data scientist ...   \n",
       "41     [75000, 90000]  missing data imputation. conduct basic researc...   \n",
       "42    [90000, 140000]  any other experience within data scalability, ...   \n",
       "44           [105000]  the data scientist assists in creating and mai...   \n",
       "46    [90000, 170000]  data scientist, supply chain sought by fortune...   \n",
       "47     [85000, 95000]  2-3 years of professional experience in data s...   \n",
       "49            [90000]  4874 data scientist*. experience working with ...   \n",
       "50    [75000, 120000]  this is a portfolio analyst with one of the wo...   \n",
       "53    [92145, 119794]  develops and executes programs to extract data...   \n",
       "55   [120000, 140000]  this data scientist role requires serious data...   \n",
       "56           [140000]  tygart is currently seeking data scientist to ...   \n",
       "58           [150000]  our big data engineer should be able to develo...   \n",
       "59    [80000, 130000]  experience analyzing large amounts of data. ap...   \n",
       "60    [75000, 105000]  experience with heavy data extraction. data vi...   \n",
       "61    [75000, 100000]  experience with heavy data extraction. data vi...   \n",
       "63            [88091]  budget development, processing and monitoring ...   \n",
       "64            [93645]  two years of scientific research related exper...   \n",
       "..                ...                                                ...   \n",
       "102  [122744, 159572]  provide reviews of program and research data m...   \n",
       "104  [130000, 160000]  the data scientist position requires a foundat...   \n",
       "105  [122744, 159572]  as a health scientist you will:. data analysis...   \n",
       "106  [122744, 159572]  as a health scientist (vulnerable populations)...   \n",
       "108  [125000, 145000]  data security engineer. architect and design i...   \n",
       "122          [100000]  lead in analyzing meter data, and related func...   \n",
       "135          [175000]  this director, marketing sciences @ hearts & s...   \n",
       "148          [150000]  are you a big data engineer who has experience...   \n",
       "150    [85000, 95000]  monitoring and analysis of security event data...   \n",
       "152          [120000]  data quality engineer*. monitor data process p...   \n",
       "156  [110000, 130000]  bachelors degree in computer science or simila...   \n",
       "160           [82683]  bachelors degree in finance, accounting, compu...   \n",
       "161          [100000]  develop t-sql scripts for manipulating data. e...   \n",
       "162   [67421, 107424]  college education in computer science can subs...   \n",
       "171          [200000]  proficient in data manipulation (soql and exce...   \n",
       "174           [82649]  ability to define problems, collect data, esta...   \n",
       "180   [77287, 115929]  basic understanding of statistical and data an...   \n",
       "185   [76157, 119024]  data collection, update and analysis; such as ...   \n",
       "190   [85014, 127520]  complex analyses of federal and state laws and...   \n",
       "191   [77286, 113656]  data analysis skills and experience. requires ...   \n",
       "195  [108753, 174003]  demonstrated ability to accurately analyze com...   \n",
       "199  [122744, 159572]  apply scientific principles & techniques to de...   \n",
       "204          [175000]  this director, marketing sciences @ hearts & s...   \n",
       "205          [168600]  masters degree in business, finance, or relate...   \n",
       "217          [230000]  my client is looking for this team to complete...   \n",
       "220          [105000]  five or more years of related experience in th...   \n",
       "222   [80000, 100000]  as part of the data science team, work closely...   \n",
       "228   [88800, 100800]  advanced knowledge of data wrangling tools and...   \n",
       "229   [90000, 110000]  as our data scientist, you will provide expert...   \n",
       "231          [100000]  bs computer science. job  linux systems engine...   \n",
       "\n",
       "        avg  target  status                                      testco  \\\n",
       "0    100000       1       0                           Avispa Technology   \n",
       "1    135000       1       2                                       DISYS   \n",
       "3    110000       1       3                                  Clearpoint   \n",
       "4    100000       1       1                              Selby Jennings   \n",
       "9     97500       1       0                              Selby Jennings   \n",
       "17    95000       1       0                   The University of Arizona   \n",
       "24    95000       1       1                     Reckitt Benckiser Group   \n",
       "27    85000       1       0                                    Hirewell   \n",
       "28   115000       1       0                       Workbridge Associates   \n",
       "29   150000       1       0                              Selby Jennings   \n",
       "31   115000       1       0                          Jobspring Partners   \n",
       "32   140000       1       0                         Analytic Recruiting   \n",
       "33    87500       1       0                          Jobspring Partners   \n",
       "40   115000       1       0                       Workbridge Associates   \n",
       "41    82500       1       0                     Smith Hanley Associates   \n",
       "42   115000       1       0                       Workbridge Associates   \n",
       "44   105000       1       0                         TalentHub Worldwide   \n",
       "46   130000       1       2                         Analytic Recruiting   \n",
       "47    90000       1       0                         Analytic Recruiting   \n",
       "49    90000       1       0                         Prime Team Partners   \n",
       "50    97500       1       0                              Selby Jennings   \n",
       "53   105969       1       0                    U.S. Department of Labor   \n",
       "55   130000       1       0                       Workbridge Associates   \n",
       "56   140000       1       0                     Tygart Technology, Inc.   \n",
       "58   150000       1       0                       TEEMA Solutions Group   \n",
       "59   105000       1       0                     Smith Hanley Associates   \n",
       "60    90000       1       0                       Workbridge Associates   \n",
       "61    87500       1       0                       Workbridge Associates   \n",
       "63    88091       1       3                               Denver Health   \n",
       "64    93645       1       0                               Denver Health   \n",
       "..      ...     ...     ...                                         ...   \n",
       "102  141158       1       0  Centers for Disease Control and Prevention   \n",
       "104  145000       1       0                       Workbridge Associates   \n",
       "105  141158       1       0  Centers for Disease Control and Prevention   \n",
       "106  141158       1       0  Centers for Disease Control and Prevention   \n",
       "108  135000       1       0                           Avispa Technology   \n",
       "122  100000       1       0            Level Four Solutions Group, Inc.   \n",
       "135  175000       1       0                            Hearts & Science   \n",
       "148  150000       1       0                       TEEMA Solutions Group   \n",
       "150   90000       1       0                        City of Philadelphia   \n",
       "152  120000       1       0                               The JPI Group   \n",
       "156  120000       1       0                               Cartasite LLC   \n",
       "160   82683       1       0                               Denver Health   \n",
       "161  100000       1       0                                     Ascendo   \n",
       "162   87422       1       0                           Miami-Dade County   \n",
       "171  200000       1       1                                     Ascendo   \n",
       "174   82649       1       0                          Miami Dade College   \n",
       "180   96608       1       0          Oregon Health & Science University   \n",
       "185   97590       1       0                            Port of Portland   \n",
       "190  106267       1       0          Oregon Health & Science University   \n",
       "191   95471       1       0          Oregon Health & Science University   \n",
       "195  141378       1       0          Oregon Health & Science University   \n",
       "199  141158       1       0  Centers for Disease Control and Prevention   \n",
       "204  175000       1       0                            Hearts & Science   \n",
       "205  168600       1       0                            Emory University   \n",
       "217  230000       1       0                             Caspian One Ltd   \n",
       "220  105000       1       0                         TalentHub Worldwide   \n",
       "222   90000       1       0                                       VROOM   \n",
       "228   94800       1       1                              Liberty Mutual   \n",
       "229  100000       1       0                                       Shyft   \n",
       "231  100000       1       0          Providence Partners and Associates   \n",
       "\n",
       "    ratings rate  \n",
       "0         3    3  \n",
       "1       3.1  3.1  \n",
       "3       3.9  3.9  \n",
       "4       3.5  3.5  \n",
       "9       3.5  3.5  \n",
       "17        4    4  \n",
       "24      3.2  3.2  \n",
       "27      4.6  4.6  \n",
       "28      3.4  3.4  \n",
       "29      3.5  3.5  \n",
       "31      3.5  3.5  \n",
       "32      3.3  3.3  \n",
       "33      3.5  3.5  \n",
       "40      3.4  3.4  \n",
       "41      4.2  4.2  \n",
       "42      3.4  3.4  \n",
       "44        5    5  \n",
       "46      3.3  3.3  \n",
       "47      3.3  3.3  \n",
       "49      4.7  4.7  \n",
       "50      3.5  3.5  \n",
       "53      3.3  3.3  \n",
       "55      3.4  3.4  \n",
       "56      4.1  4.1  \n",
       "58      4.8  4.8  \n",
       "59      4.2  4.2  \n",
       "60      3.4  3.4  \n",
       "61      3.4  3.4  \n",
       "63      3.5  3.5  \n",
       "64      3.5  3.5  \n",
       "..      ...  ...  \n",
       "102     3.9  3.9  \n",
       "104     3.4  3.4  \n",
       "105     3.9  3.9  \n",
       "106     3.9  3.9  \n",
       "108       3    3  \n",
       "122     3.9  3.9  \n",
       "135     3.2  3.2  \n",
       "148     4.8  4.8  \n",
       "150     3.3  3.3  \n",
       "152       4    4  \n",
       "156     4.2  4.2  \n",
       "160     3.5  3.5  \n",
       "161       3    3  \n",
       "162     3.6  3.6  \n",
       "171       3    3  \n",
       "174     3.8  3.8  \n",
       "180     3.7  3.7  \n",
       "185     3.9  3.9  \n",
       "190     3.7  3.7  \n",
       "191     3.7  3.7  \n",
       "195     3.7  3.7  \n",
       "199     3.9  3.9  \n",
       "204     3.2  3.2  \n",
       "205     3.9  3.9  \n",
       "217     4.5  4.5  \n",
       "220       5    5  \n",
       "222     3.2  3.2  \n",
       "228     3.5  3.5  \n",
       "229     3.7  3.7  \n",
       "231     3.3  3.3  \n",
       "\n",
       "[72 rows x 11 columns]"
      ]
     },
     "execution_count": 243,
     "metadata": {},
     "output_type": "execute_result"
    }
   ],
   "source": [
    "withsal[(withsal[\"target\"]==1) & (withsal[\"ratings\"]>=3) & (withsal[\"ratings\"]!=\"NA\")]"
   ]
  }
 ],
 "metadata": {
  "kernelspec": {
   "display_name": "Python 2",
   "language": "python",
   "name": "python2"
  },
  "language_info": {
   "codemirror_mode": {
    "name": "ipython",
    "version": 2
   },
   "file_extension": ".py",
   "mimetype": "text/x-python",
   "name": "python",
   "nbconvert_exporter": "python",
   "pygments_lexer": "ipython2",
   "version": "2.7.12"
  }
 },
 "nbformat": 4,
 "nbformat_minor": 0
}
